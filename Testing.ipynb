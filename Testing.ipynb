{
 "cells": [
  {
   "cell_type": "code",
   "execution_count": 12,
   "id": "560e3a90",
   "metadata": {},
   "outputs": [],
   "source": [
    "import joblib\n",
    "import pandas as pd\n",
    "import difflib\n",
    "import re"
   ]
  },
  {
   "cell_type": "code",
   "execution_count": 4,
   "id": "6e9722da",
   "metadata": {},
   "outputs": [],
   "source": [
    "tfv = joblib.load('tfidf_vectorizer.pkl')\n",
    "sig = joblib.load('sigmoid_kernel.pkl')\n",
    "indices = pd.read_pickle('anime_indices.pkl')"
   ]
  },
  {
   "cell_type": "code",
   "execution_count": 10,
   "id": "4aa605e4",
   "metadata": {},
   "outputs": [],
   "source": [
    "anime_data = pd.read_csv('data/anime.csv')"
   ]
  },
  {
   "cell_type": "code",
   "execution_count": 13,
   "id": "7c402c0f",
   "metadata": {},
   "outputs": [],
   "source": [
    "def text_cleaning(text):\n",
    "    text = re.sub(r'&quot;', '', text)\n",
    "    text = re.sub(r'.hack//', '', text)\n",
    "    text = re.sub(r'&#039;', '', text)\n",
    "    text = re.sub(r'A&#039;s', '', text)\n",
    "    text = re.sub(r'I&#039;', 'I\\'', text)\n",
    "    text = re.sub(r'&amp;', 'and', text)\n",
    "    \n",
    "    return text\n",
    "\n",
    "anime_data['name'] = anime_data['name'].apply(text_cleaning)"
   ]
  },
  {
   "cell_type": "code",
   "execution_count": 14,
   "id": "645c47a0",
   "metadata": {},
   "outputs": [],
   "source": [
    "def give_rec(title, sig=sig, indices=indices):\n",
    "    try:\n",
    "        idx = indices[title]\n",
    "    except KeyError:\n",
    "        closest_match = difflib.get_close_matches(title, indices.keys(), n=1)\n",
    "        if closest_match:\n",
    "            title = closest_match[0]\n",
    "            idx = indices[title]\n",
    "        else:\n",
    "            return \"No match found for the provided anime name.\"\n",
    "\n",
    "    sig_scores = list(enumerate(sig[idx]))\n",
    "    sig_scores = sorted(sig_scores, key=lambda x: x[1], reverse=True)\n",
    "    sig_scores = sig_scores[1:11]\n",
    "    anime_indices = [i[0] for i in sig_scores]\n",
    "\n",
    "    return list(anime_data['name'].iloc[anime_indices].values)\n"
   ]
  },
  {
   "cell_type": "code",
   "execution_count": 15,
   "id": "4c968501",
   "metadata": {},
   "outputs": [
    {
     "data": {
      "text/plain": [
       "['Akame ga Kill!',\n",
       " 'Tales of Zestiria the X',\n",
       " 'Murder Princess',\n",
       " 'Rayearth',\n",
       " 'Seiken no Blacksmith',\n",
       " 'Akame ga Kill! Recap',\n",
       " 'Eiyuu Densetsu: Sora no Kiseki The Animation',\n",
       " 'Bao Lian Deng',\n",
       " 'Phantom of the Kill: Zero kara no Hangyaku',\n",
       " 'Parol no Miraijima']"
      ]
     },
     "execution_count": 15,
     "metadata": {},
     "output_type": "execute_result"
    }
   ],
   "source": [
    "give_rec('harry')"
   ]
  },
  {
   "cell_type": "code",
   "execution_count": null,
   "id": "51b7d3c4",
   "metadata": {},
   "outputs": [],
   "source": [
    "['top-10-anime-based-on-rating.png',\n",
    "'top-10-anime-based-on-audience.png',\n",
    "'distribution-of-rating-website-and-user.png',\n",
    "'medium-of-streaming.png',]"
   ]
  }
 ],
 "metadata": {
  "kernelspec": {
   "display_name": "Python 3 (ipykernel)",
   "language": "python",
   "name": "python3"
  },
  "language_info": {
   "codemirror_mode": {
    "name": "ipython",
    "version": 3
   },
   "file_extension": ".py",
   "mimetype": "text/x-python",
   "name": "python",
   "nbconvert_exporter": "python",
   "pygments_lexer": "ipython3",
   "version": "3.11.5"
  }
 },
 "nbformat": 4,
 "nbformat_minor": 5
}
